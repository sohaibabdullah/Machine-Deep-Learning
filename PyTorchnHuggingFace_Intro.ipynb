{
  "nbformat": 4,
  "nbformat_minor": 0,
  "metadata": {
    "colab": {
      "provenance": [],
      "toc_visible": true,
      "authorship_tag": "ABX9TyNImEJ0mdPBUgClgkGKysjX",
      "include_colab_link": true
    },
    "kernelspec": {
      "name": "python3",
      "display_name": "Python 3"
    },
    "language_info": {
      "name": "python"
    },
    "widgets": {
      "application/vnd.jupyter.widget-state+json": {
        "f37c95196de949d88420e4ed7e417153": {
          "model_module": "@jupyter-widgets/controls",
          "model_name": "HBoxModel",
          "model_module_version": "1.5.0",
          "state": {
            "_dom_classes": [],
            "_model_module": "@jupyter-widgets/controls",
            "_model_module_version": "1.5.0",
            "_model_name": "HBoxModel",
            "_view_count": null,
            "_view_module": "@jupyter-widgets/controls",
            "_view_module_version": "1.5.0",
            "_view_name": "HBoxView",
            "box_style": "",
            "children": [
              "IPY_MODEL_6f35ec3f874d48658f3eb6dfbc7989aa",
              "IPY_MODEL_febbe234440547b8a4c7086367752f00",
              "IPY_MODEL_5ef3299ac76846f29eef39c83f0b087c"
            ],
            "layout": "IPY_MODEL_15fdd5e73db64d059ec99f339da2fc43"
          }
        },
        "6f35ec3f874d48658f3eb6dfbc7989aa": {
          "model_module": "@jupyter-widgets/controls",
          "model_name": "HTMLModel",
          "model_module_version": "1.5.0",
          "state": {
            "_dom_classes": [],
            "_model_module": "@jupyter-widgets/controls",
            "_model_module_version": "1.5.0",
            "_model_name": "HTMLModel",
            "_view_count": null,
            "_view_module": "@jupyter-widgets/controls",
            "_view_module_version": "1.5.0",
            "_view_name": "HTMLView",
            "description": "",
            "description_tooltip": null,
            "layout": "IPY_MODEL_4fdae0540deb40cab31de54cf87d4dba",
            "placeholder": "​",
            "style": "IPY_MODEL_ccbdd4f1e510469c9c78cc06952d63bc",
            "value": "config.json: 100%"
          }
        },
        "febbe234440547b8a4c7086367752f00": {
          "model_module": "@jupyter-widgets/controls",
          "model_name": "FloatProgressModel",
          "model_module_version": "1.5.0",
          "state": {
            "_dom_classes": [],
            "_model_module": "@jupyter-widgets/controls",
            "_model_module_version": "1.5.0",
            "_model_name": "FloatProgressModel",
            "_view_count": null,
            "_view_module": "@jupyter-widgets/controls",
            "_view_module_version": "1.5.0",
            "_view_name": "ProgressView",
            "bar_style": "success",
            "description": "",
            "description_tooltip": null,
            "layout": "IPY_MODEL_c916e22b4ed140e6acadb029d27908c1",
            "max": 629,
            "min": 0,
            "orientation": "horizontal",
            "style": "IPY_MODEL_1f5be865c43d4372a7735379ecee7902",
            "value": 629
          }
        },
        "5ef3299ac76846f29eef39c83f0b087c": {
          "model_module": "@jupyter-widgets/controls",
          "model_name": "HTMLModel",
          "model_module_version": "1.5.0",
          "state": {
            "_dom_classes": [],
            "_model_module": "@jupyter-widgets/controls",
            "_model_module_version": "1.5.0",
            "_model_name": "HTMLModel",
            "_view_count": null,
            "_view_module": "@jupyter-widgets/controls",
            "_view_module_version": "1.5.0",
            "_view_name": "HTMLView",
            "description": "",
            "description_tooltip": null,
            "layout": "IPY_MODEL_183ba8e11a7e4ef49c6f42747fe0c24c",
            "placeholder": "​",
            "style": "IPY_MODEL_e3a27cd93761459c9fe0cb17eb967cb2",
            "value": " 629/629 [00:00&lt;00:00, 34.4kB/s]"
          }
        },
        "15fdd5e73db64d059ec99f339da2fc43": {
          "model_module": "@jupyter-widgets/base",
          "model_name": "LayoutModel",
          "model_module_version": "1.2.0",
          "state": {
            "_model_module": "@jupyter-widgets/base",
            "_model_module_version": "1.2.0",
            "_model_name": "LayoutModel",
            "_view_count": null,
            "_view_module": "@jupyter-widgets/base",
            "_view_module_version": "1.2.0",
            "_view_name": "LayoutView",
            "align_content": null,
            "align_items": null,
            "align_self": null,
            "border": null,
            "bottom": null,
            "display": null,
            "flex": null,
            "flex_flow": null,
            "grid_area": null,
            "grid_auto_columns": null,
            "grid_auto_flow": null,
            "grid_auto_rows": null,
            "grid_column": null,
            "grid_gap": null,
            "grid_row": null,
            "grid_template_areas": null,
            "grid_template_columns": null,
            "grid_template_rows": null,
            "height": null,
            "justify_content": null,
            "justify_items": null,
            "left": null,
            "margin": null,
            "max_height": null,
            "max_width": null,
            "min_height": null,
            "min_width": null,
            "object_fit": null,
            "object_position": null,
            "order": null,
            "overflow": null,
            "overflow_x": null,
            "overflow_y": null,
            "padding": null,
            "right": null,
            "top": null,
            "visibility": null,
            "width": null
          }
        },
        "4fdae0540deb40cab31de54cf87d4dba": {
          "model_module": "@jupyter-widgets/base",
          "model_name": "LayoutModel",
          "model_module_version": "1.2.0",
          "state": {
            "_model_module": "@jupyter-widgets/base",
            "_model_module_version": "1.2.0",
            "_model_name": "LayoutModel",
            "_view_count": null,
            "_view_module": "@jupyter-widgets/base",
            "_view_module_version": "1.2.0",
            "_view_name": "LayoutView",
            "align_content": null,
            "align_items": null,
            "align_self": null,
            "border": null,
            "bottom": null,
            "display": null,
            "flex": null,
            "flex_flow": null,
            "grid_area": null,
            "grid_auto_columns": null,
            "grid_auto_flow": null,
            "grid_auto_rows": null,
            "grid_column": null,
            "grid_gap": null,
            "grid_row": null,
            "grid_template_areas": null,
            "grid_template_columns": null,
            "grid_template_rows": null,
            "height": null,
            "justify_content": null,
            "justify_items": null,
            "left": null,
            "margin": null,
            "max_height": null,
            "max_width": null,
            "min_height": null,
            "min_width": null,
            "object_fit": null,
            "object_position": null,
            "order": null,
            "overflow": null,
            "overflow_x": null,
            "overflow_y": null,
            "padding": null,
            "right": null,
            "top": null,
            "visibility": null,
            "width": null
          }
        },
        "ccbdd4f1e510469c9c78cc06952d63bc": {
          "model_module": "@jupyter-widgets/controls",
          "model_name": "DescriptionStyleModel",
          "model_module_version": "1.5.0",
          "state": {
            "_model_module": "@jupyter-widgets/controls",
            "_model_module_version": "1.5.0",
            "_model_name": "DescriptionStyleModel",
            "_view_count": null,
            "_view_module": "@jupyter-widgets/base",
            "_view_module_version": "1.2.0",
            "_view_name": "StyleView",
            "description_width": ""
          }
        },
        "c916e22b4ed140e6acadb029d27908c1": {
          "model_module": "@jupyter-widgets/base",
          "model_name": "LayoutModel",
          "model_module_version": "1.2.0",
          "state": {
            "_model_module": "@jupyter-widgets/base",
            "_model_module_version": "1.2.0",
            "_model_name": "LayoutModel",
            "_view_count": null,
            "_view_module": "@jupyter-widgets/base",
            "_view_module_version": "1.2.0",
            "_view_name": "LayoutView",
            "align_content": null,
            "align_items": null,
            "align_self": null,
            "border": null,
            "bottom": null,
            "display": null,
            "flex": null,
            "flex_flow": null,
            "grid_area": null,
            "grid_auto_columns": null,
            "grid_auto_flow": null,
            "grid_auto_rows": null,
            "grid_column": null,
            "grid_gap": null,
            "grid_row": null,
            "grid_template_areas": null,
            "grid_template_columns": null,
            "grid_template_rows": null,
            "height": null,
            "justify_content": null,
            "justify_items": null,
            "left": null,
            "margin": null,
            "max_height": null,
            "max_width": null,
            "min_height": null,
            "min_width": null,
            "object_fit": null,
            "object_position": null,
            "order": null,
            "overflow": null,
            "overflow_x": null,
            "overflow_y": null,
            "padding": null,
            "right": null,
            "top": null,
            "visibility": null,
            "width": null
          }
        },
        "1f5be865c43d4372a7735379ecee7902": {
          "model_module": "@jupyter-widgets/controls",
          "model_name": "ProgressStyleModel",
          "model_module_version": "1.5.0",
          "state": {
            "_model_module": "@jupyter-widgets/controls",
            "_model_module_version": "1.5.0",
            "_model_name": "ProgressStyleModel",
            "_view_count": null,
            "_view_module": "@jupyter-widgets/base",
            "_view_module_version": "1.2.0",
            "_view_name": "StyleView",
            "bar_color": null,
            "description_width": ""
          }
        },
        "183ba8e11a7e4ef49c6f42747fe0c24c": {
          "model_module": "@jupyter-widgets/base",
          "model_name": "LayoutModel",
          "model_module_version": "1.2.0",
          "state": {
            "_model_module": "@jupyter-widgets/base",
            "_model_module_version": "1.2.0",
            "_model_name": "LayoutModel",
            "_view_count": null,
            "_view_module": "@jupyter-widgets/base",
            "_view_module_version": "1.2.0",
            "_view_name": "LayoutView",
            "align_content": null,
            "align_items": null,
            "align_self": null,
            "border": null,
            "bottom": null,
            "display": null,
            "flex": null,
            "flex_flow": null,
            "grid_area": null,
            "grid_auto_columns": null,
            "grid_auto_flow": null,
            "grid_auto_rows": null,
            "grid_column": null,
            "grid_gap": null,
            "grid_row": null,
            "grid_template_areas": null,
            "grid_template_columns": null,
            "grid_template_rows": null,
            "height": null,
            "justify_content": null,
            "justify_items": null,
            "left": null,
            "margin": null,
            "max_height": null,
            "max_width": null,
            "min_height": null,
            "min_width": null,
            "object_fit": null,
            "object_position": null,
            "order": null,
            "overflow": null,
            "overflow_x": null,
            "overflow_y": null,
            "padding": null,
            "right": null,
            "top": null,
            "visibility": null,
            "width": null
          }
        },
        "e3a27cd93761459c9fe0cb17eb967cb2": {
          "model_module": "@jupyter-widgets/controls",
          "model_name": "DescriptionStyleModel",
          "model_module_version": "1.5.0",
          "state": {
            "_model_module": "@jupyter-widgets/controls",
            "_model_module_version": "1.5.0",
            "_model_name": "DescriptionStyleModel",
            "_view_count": null,
            "_view_module": "@jupyter-widgets/base",
            "_view_module_version": "1.2.0",
            "_view_name": "StyleView",
            "description_width": ""
          }
        },
        "7fdcd29f66b9439aa8c550692230a469": {
          "model_module": "@jupyter-widgets/controls",
          "model_name": "HBoxModel",
          "model_module_version": "1.5.0",
          "state": {
            "_dom_classes": [],
            "_model_module": "@jupyter-widgets/controls",
            "_model_module_version": "1.5.0",
            "_model_name": "HBoxModel",
            "_view_count": null,
            "_view_module": "@jupyter-widgets/controls",
            "_view_module_version": "1.5.0",
            "_view_name": "HBoxView",
            "box_style": "",
            "children": [
              "IPY_MODEL_19314a374898439da353706c9440bded",
              "IPY_MODEL_7e1a58dc68d74a5eb9a795d6e8d17ce2",
              "IPY_MODEL_4f305df633fc44af94f9c6f6b49e019e"
            ],
            "layout": "IPY_MODEL_d8ade86c8acb4d2693656f2a823d4288"
          }
        },
        "19314a374898439da353706c9440bded": {
          "model_module": "@jupyter-widgets/controls",
          "model_name": "HTMLModel",
          "model_module_version": "1.5.0",
          "state": {
            "_dom_classes": [],
            "_model_module": "@jupyter-widgets/controls",
            "_model_module_version": "1.5.0",
            "_model_name": "HTMLModel",
            "_view_count": null,
            "_view_module": "@jupyter-widgets/controls",
            "_view_module_version": "1.5.0",
            "_view_name": "HTMLView",
            "description": "",
            "description_tooltip": null,
            "layout": "IPY_MODEL_3a6e268edf3c4853bbe1695c3015ce5c",
            "placeholder": "​",
            "style": "IPY_MODEL_d32a833b186242e296584ed21d7906b5",
            "value": "model.safetensors: 100%"
          }
        },
        "7e1a58dc68d74a5eb9a795d6e8d17ce2": {
          "model_module": "@jupyter-widgets/controls",
          "model_name": "FloatProgressModel",
          "model_module_version": "1.5.0",
          "state": {
            "_dom_classes": [],
            "_model_module": "@jupyter-widgets/controls",
            "_model_module_version": "1.5.0",
            "_model_name": "FloatProgressModel",
            "_view_count": null,
            "_view_module": "@jupyter-widgets/controls",
            "_view_module_version": "1.5.0",
            "_view_name": "ProgressView",
            "bar_style": "success",
            "description": "",
            "description_tooltip": null,
            "layout": "IPY_MODEL_022ef3bff3124e528e8025934b959f79",
            "max": 267832558,
            "min": 0,
            "orientation": "horizontal",
            "style": "IPY_MODEL_196aa5da00cb4354aa515faf68bafb4e",
            "value": 267832558
          }
        },
        "4f305df633fc44af94f9c6f6b49e019e": {
          "model_module": "@jupyter-widgets/controls",
          "model_name": "HTMLModel",
          "model_module_version": "1.5.0",
          "state": {
            "_dom_classes": [],
            "_model_module": "@jupyter-widgets/controls",
            "_model_module_version": "1.5.0",
            "_model_name": "HTMLModel",
            "_view_count": null,
            "_view_module": "@jupyter-widgets/controls",
            "_view_module_version": "1.5.0",
            "_view_name": "HTMLView",
            "description": "",
            "description_tooltip": null,
            "layout": "IPY_MODEL_1b7520fd70ab413fafd4d7bf54872243",
            "placeholder": "​",
            "style": "IPY_MODEL_b6774ebec23e433886e5197e57aa9039",
            "value": " 268M/268M [00:03&lt;00:00, 89.1MB/s]"
          }
        },
        "d8ade86c8acb4d2693656f2a823d4288": {
          "model_module": "@jupyter-widgets/base",
          "model_name": "LayoutModel",
          "model_module_version": "1.2.0",
          "state": {
            "_model_module": "@jupyter-widgets/base",
            "_model_module_version": "1.2.0",
            "_model_name": "LayoutModel",
            "_view_count": null,
            "_view_module": "@jupyter-widgets/base",
            "_view_module_version": "1.2.0",
            "_view_name": "LayoutView",
            "align_content": null,
            "align_items": null,
            "align_self": null,
            "border": null,
            "bottom": null,
            "display": null,
            "flex": null,
            "flex_flow": null,
            "grid_area": null,
            "grid_auto_columns": null,
            "grid_auto_flow": null,
            "grid_auto_rows": null,
            "grid_column": null,
            "grid_gap": null,
            "grid_row": null,
            "grid_template_areas": null,
            "grid_template_columns": null,
            "grid_template_rows": null,
            "height": null,
            "justify_content": null,
            "justify_items": null,
            "left": null,
            "margin": null,
            "max_height": null,
            "max_width": null,
            "min_height": null,
            "min_width": null,
            "object_fit": null,
            "object_position": null,
            "order": null,
            "overflow": null,
            "overflow_x": null,
            "overflow_y": null,
            "padding": null,
            "right": null,
            "top": null,
            "visibility": null,
            "width": null
          }
        },
        "3a6e268edf3c4853bbe1695c3015ce5c": {
          "model_module": "@jupyter-widgets/base",
          "model_name": "LayoutModel",
          "model_module_version": "1.2.0",
          "state": {
            "_model_module": "@jupyter-widgets/base",
            "_model_module_version": "1.2.0",
            "_model_name": "LayoutModel",
            "_view_count": null,
            "_view_module": "@jupyter-widgets/base",
            "_view_module_version": "1.2.0",
            "_view_name": "LayoutView",
            "align_content": null,
            "align_items": null,
            "align_self": null,
            "border": null,
            "bottom": null,
            "display": null,
            "flex": null,
            "flex_flow": null,
            "grid_area": null,
            "grid_auto_columns": null,
            "grid_auto_flow": null,
            "grid_auto_rows": null,
            "grid_column": null,
            "grid_gap": null,
            "grid_row": null,
            "grid_template_areas": null,
            "grid_template_columns": null,
            "grid_template_rows": null,
            "height": null,
            "justify_content": null,
            "justify_items": null,
            "left": null,
            "margin": null,
            "max_height": null,
            "max_width": null,
            "min_height": null,
            "min_width": null,
            "object_fit": null,
            "object_position": null,
            "order": null,
            "overflow": null,
            "overflow_x": null,
            "overflow_y": null,
            "padding": null,
            "right": null,
            "top": null,
            "visibility": null,
            "width": null
          }
        },
        "d32a833b186242e296584ed21d7906b5": {
          "model_module": "@jupyter-widgets/controls",
          "model_name": "DescriptionStyleModel",
          "model_module_version": "1.5.0",
          "state": {
            "_model_module": "@jupyter-widgets/controls",
            "_model_module_version": "1.5.0",
            "_model_name": "DescriptionStyleModel",
            "_view_count": null,
            "_view_module": "@jupyter-widgets/base",
            "_view_module_version": "1.2.0",
            "_view_name": "StyleView",
            "description_width": ""
          }
        },
        "022ef3bff3124e528e8025934b959f79": {
          "model_module": "@jupyter-widgets/base",
          "model_name": "LayoutModel",
          "model_module_version": "1.2.0",
          "state": {
            "_model_module": "@jupyter-widgets/base",
            "_model_module_version": "1.2.0",
            "_model_name": "LayoutModel",
            "_view_count": null,
            "_view_module": "@jupyter-widgets/base",
            "_view_module_version": "1.2.0",
            "_view_name": "LayoutView",
            "align_content": null,
            "align_items": null,
            "align_self": null,
            "border": null,
            "bottom": null,
            "display": null,
            "flex": null,
            "flex_flow": null,
            "grid_area": null,
            "grid_auto_columns": null,
            "grid_auto_flow": null,
            "grid_auto_rows": null,
            "grid_column": null,
            "grid_gap": null,
            "grid_row": null,
            "grid_template_areas": null,
            "grid_template_columns": null,
            "grid_template_rows": null,
            "height": null,
            "justify_content": null,
            "justify_items": null,
            "left": null,
            "margin": null,
            "max_height": null,
            "max_width": null,
            "min_height": null,
            "min_width": null,
            "object_fit": null,
            "object_position": null,
            "order": null,
            "overflow": null,
            "overflow_x": null,
            "overflow_y": null,
            "padding": null,
            "right": null,
            "top": null,
            "visibility": null,
            "width": null
          }
        },
        "196aa5da00cb4354aa515faf68bafb4e": {
          "model_module": "@jupyter-widgets/controls",
          "model_name": "ProgressStyleModel",
          "model_module_version": "1.5.0",
          "state": {
            "_model_module": "@jupyter-widgets/controls",
            "_model_module_version": "1.5.0",
            "_model_name": "ProgressStyleModel",
            "_view_count": null,
            "_view_module": "@jupyter-widgets/base",
            "_view_module_version": "1.2.0",
            "_view_name": "StyleView",
            "bar_color": null,
            "description_width": ""
          }
        },
        "1b7520fd70ab413fafd4d7bf54872243": {
          "model_module": "@jupyter-widgets/base",
          "model_name": "LayoutModel",
          "model_module_version": "1.2.0",
          "state": {
            "_model_module": "@jupyter-widgets/base",
            "_model_module_version": "1.2.0",
            "_model_name": "LayoutModel",
            "_view_count": null,
            "_view_module": "@jupyter-widgets/base",
            "_view_module_version": "1.2.0",
            "_view_name": "LayoutView",
            "align_content": null,
            "align_items": null,
            "align_self": null,
            "border": null,
            "bottom": null,
            "display": null,
            "flex": null,
            "flex_flow": null,
            "grid_area": null,
            "grid_auto_columns": null,
            "grid_auto_flow": null,
            "grid_auto_rows": null,
            "grid_column": null,
            "grid_gap": null,
            "grid_row": null,
            "grid_template_areas": null,
            "grid_template_columns": null,
            "grid_template_rows": null,
            "height": null,
            "justify_content": null,
            "justify_items": null,
            "left": null,
            "margin": null,
            "max_height": null,
            "max_width": null,
            "min_height": null,
            "min_width": null,
            "object_fit": null,
            "object_position": null,
            "order": null,
            "overflow": null,
            "overflow_x": null,
            "overflow_y": null,
            "padding": null,
            "right": null,
            "top": null,
            "visibility": null,
            "width": null
          }
        },
        "b6774ebec23e433886e5197e57aa9039": {
          "model_module": "@jupyter-widgets/controls",
          "model_name": "DescriptionStyleModel",
          "model_module_version": "1.5.0",
          "state": {
            "_model_module": "@jupyter-widgets/controls",
            "_model_module_version": "1.5.0",
            "_model_name": "DescriptionStyleModel",
            "_view_count": null,
            "_view_module": "@jupyter-widgets/base",
            "_view_module_version": "1.2.0",
            "_view_name": "StyleView",
            "description_width": ""
          }
        },
        "6fec07e9da534e0491d4c8a55b640cd3": {
          "model_module": "@jupyter-widgets/controls",
          "model_name": "HBoxModel",
          "model_module_version": "1.5.0",
          "state": {
            "_dom_classes": [],
            "_model_module": "@jupyter-widgets/controls",
            "_model_module_version": "1.5.0",
            "_model_name": "HBoxModel",
            "_view_count": null,
            "_view_module": "@jupyter-widgets/controls",
            "_view_module_version": "1.5.0",
            "_view_name": "HBoxView",
            "box_style": "",
            "children": [
              "IPY_MODEL_dbe88a66e6fa4741b3b927b27b931e0a",
              "IPY_MODEL_a23a877a2fcb43718a3d6c9da6e25f07",
              "IPY_MODEL_4e7a03eae6a94182b8d3eccfc0182a27"
            ],
            "layout": "IPY_MODEL_1cf1932068ab4fa8b759562607569e32"
          }
        },
        "dbe88a66e6fa4741b3b927b27b931e0a": {
          "model_module": "@jupyter-widgets/controls",
          "model_name": "HTMLModel",
          "model_module_version": "1.5.0",
          "state": {
            "_dom_classes": [],
            "_model_module": "@jupyter-widgets/controls",
            "_model_module_version": "1.5.0",
            "_model_name": "HTMLModel",
            "_view_count": null,
            "_view_module": "@jupyter-widgets/controls",
            "_view_module_version": "1.5.0",
            "_view_name": "HTMLView",
            "description": "",
            "description_tooltip": null,
            "layout": "IPY_MODEL_c053ca5c41aa47f89353876fb061fc18",
            "placeholder": "​",
            "style": "IPY_MODEL_057597ed37a04016a3492023145562b9",
            "value": "tokenizer_config.json: 100%"
          }
        },
        "a23a877a2fcb43718a3d6c9da6e25f07": {
          "model_module": "@jupyter-widgets/controls",
          "model_name": "FloatProgressModel",
          "model_module_version": "1.5.0",
          "state": {
            "_dom_classes": [],
            "_model_module": "@jupyter-widgets/controls",
            "_model_module_version": "1.5.0",
            "_model_name": "FloatProgressModel",
            "_view_count": null,
            "_view_module": "@jupyter-widgets/controls",
            "_view_module_version": "1.5.0",
            "_view_name": "ProgressView",
            "bar_style": "success",
            "description": "",
            "description_tooltip": null,
            "layout": "IPY_MODEL_941fa8e0f01846059cc2e59494fcccb2",
            "max": 48,
            "min": 0,
            "orientation": "horizontal",
            "style": "IPY_MODEL_7a138d9bf689464cb16f56c6cf08ad85",
            "value": 48
          }
        },
        "4e7a03eae6a94182b8d3eccfc0182a27": {
          "model_module": "@jupyter-widgets/controls",
          "model_name": "HTMLModel",
          "model_module_version": "1.5.0",
          "state": {
            "_dom_classes": [],
            "_model_module": "@jupyter-widgets/controls",
            "_model_module_version": "1.5.0",
            "_model_name": "HTMLModel",
            "_view_count": null,
            "_view_module": "@jupyter-widgets/controls",
            "_view_module_version": "1.5.0",
            "_view_name": "HTMLView",
            "description": "",
            "description_tooltip": null,
            "layout": "IPY_MODEL_9a6de780a80f4fa0a989481b56fbd7f8",
            "placeholder": "​",
            "style": "IPY_MODEL_01a215948a3b4440a99c13a475035148",
            "value": " 48.0/48.0 [00:00&lt;00:00, 1.66kB/s]"
          }
        },
        "1cf1932068ab4fa8b759562607569e32": {
          "model_module": "@jupyter-widgets/base",
          "model_name": "LayoutModel",
          "model_module_version": "1.2.0",
          "state": {
            "_model_module": "@jupyter-widgets/base",
            "_model_module_version": "1.2.0",
            "_model_name": "LayoutModel",
            "_view_count": null,
            "_view_module": "@jupyter-widgets/base",
            "_view_module_version": "1.2.0",
            "_view_name": "LayoutView",
            "align_content": null,
            "align_items": null,
            "align_self": null,
            "border": null,
            "bottom": null,
            "display": null,
            "flex": null,
            "flex_flow": null,
            "grid_area": null,
            "grid_auto_columns": null,
            "grid_auto_flow": null,
            "grid_auto_rows": null,
            "grid_column": null,
            "grid_gap": null,
            "grid_row": null,
            "grid_template_areas": null,
            "grid_template_columns": null,
            "grid_template_rows": null,
            "height": null,
            "justify_content": null,
            "justify_items": null,
            "left": null,
            "margin": null,
            "max_height": null,
            "max_width": null,
            "min_height": null,
            "min_width": null,
            "object_fit": null,
            "object_position": null,
            "order": null,
            "overflow": null,
            "overflow_x": null,
            "overflow_y": null,
            "padding": null,
            "right": null,
            "top": null,
            "visibility": null,
            "width": null
          }
        },
        "c053ca5c41aa47f89353876fb061fc18": {
          "model_module": "@jupyter-widgets/base",
          "model_name": "LayoutModel",
          "model_module_version": "1.2.0",
          "state": {
            "_model_module": "@jupyter-widgets/base",
            "_model_module_version": "1.2.0",
            "_model_name": "LayoutModel",
            "_view_count": null,
            "_view_module": "@jupyter-widgets/base",
            "_view_module_version": "1.2.0",
            "_view_name": "LayoutView",
            "align_content": null,
            "align_items": null,
            "align_self": null,
            "border": null,
            "bottom": null,
            "display": null,
            "flex": null,
            "flex_flow": null,
            "grid_area": null,
            "grid_auto_columns": null,
            "grid_auto_flow": null,
            "grid_auto_rows": null,
            "grid_column": null,
            "grid_gap": null,
            "grid_row": null,
            "grid_template_areas": null,
            "grid_template_columns": null,
            "grid_template_rows": null,
            "height": null,
            "justify_content": null,
            "justify_items": null,
            "left": null,
            "margin": null,
            "max_height": null,
            "max_width": null,
            "min_height": null,
            "min_width": null,
            "object_fit": null,
            "object_position": null,
            "order": null,
            "overflow": null,
            "overflow_x": null,
            "overflow_y": null,
            "padding": null,
            "right": null,
            "top": null,
            "visibility": null,
            "width": null
          }
        },
        "057597ed37a04016a3492023145562b9": {
          "model_module": "@jupyter-widgets/controls",
          "model_name": "DescriptionStyleModel",
          "model_module_version": "1.5.0",
          "state": {
            "_model_module": "@jupyter-widgets/controls",
            "_model_module_version": "1.5.0",
            "_model_name": "DescriptionStyleModel",
            "_view_count": null,
            "_view_module": "@jupyter-widgets/base",
            "_view_module_version": "1.2.0",
            "_view_name": "StyleView",
            "description_width": ""
          }
        },
        "941fa8e0f01846059cc2e59494fcccb2": {
          "model_module": "@jupyter-widgets/base",
          "model_name": "LayoutModel",
          "model_module_version": "1.2.0",
          "state": {
            "_model_module": "@jupyter-widgets/base",
            "_model_module_version": "1.2.0",
            "_model_name": "LayoutModel",
            "_view_count": null,
            "_view_module": "@jupyter-widgets/base",
            "_view_module_version": "1.2.0",
            "_view_name": "LayoutView",
            "align_content": null,
            "align_items": null,
            "align_self": null,
            "border": null,
            "bottom": null,
            "display": null,
            "flex": null,
            "flex_flow": null,
            "grid_area": null,
            "grid_auto_columns": null,
            "grid_auto_flow": null,
            "grid_auto_rows": null,
            "grid_column": null,
            "grid_gap": null,
            "grid_row": null,
            "grid_template_areas": null,
            "grid_template_columns": null,
            "grid_template_rows": null,
            "height": null,
            "justify_content": null,
            "justify_items": null,
            "left": null,
            "margin": null,
            "max_height": null,
            "max_width": null,
            "min_height": null,
            "min_width": null,
            "object_fit": null,
            "object_position": null,
            "order": null,
            "overflow": null,
            "overflow_x": null,
            "overflow_y": null,
            "padding": null,
            "right": null,
            "top": null,
            "visibility": null,
            "width": null
          }
        },
        "7a138d9bf689464cb16f56c6cf08ad85": {
          "model_module": "@jupyter-widgets/controls",
          "model_name": "ProgressStyleModel",
          "model_module_version": "1.5.0",
          "state": {
            "_model_module": "@jupyter-widgets/controls",
            "_model_module_version": "1.5.0",
            "_model_name": "ProgressStyleModel",
            "_view_count": null,
            "_view_module": "@jupyter-widgets/base",
            "_view_module_version": "1.2.0",
            "_view_name": "StyleView",
            "bar_color": null,
            "description_width": ""
          }
        },
        "9a6de780a80f4fa0a989481b56fbd7f8": {
          "model_module": "@jupyter-widgets/base",
          "model_name": "LayoutModel",
          "model_module_version": "1.2.0",
          "state": {
            "_model_module": "@jupyter-widgets/base",
            "_model_module_version": "1.2.0",
            "_model_name": "LayoutModel",
            "_view_count": null,
            "_view_module": "@jupyter-widgets/base",
            "_view_module_version": "1.2.0",
            "_view_name": "LayoutView",
            "align_content": null,
            "align_items": null,
            "align_self": null,
            "border": null,
            "bottom": null,
            "display": null,
            "flex": null,
            "flex_flow": null,
            "grid_area": null,
            "grid_auto_columns": null,
            "grid_auto_flow": null,
            "grid_auto_rows": null,
            "grid_column": null,
            "grid_gap": null,
            "grid_row": null,
            "grid_template_areas": null,
            "grid_template_columns": null,
            "grid_template_rows": null,
            "height": null,
            "justify_content": null,
            "justify_items": null,
            "left": null,
            "margin": null,
            "max_height": null,
            "max_width": null,
            "min_height": null,
            "min_width": null,
            "object_fit": null,
            "object_position": null,
            "order": null,
            "overflow": null,
            "overflow_x": null,
            "overflow_y": null,
            "padding": null,
            "right": null,
            "top": null,
            "visibility": null,
            "width": null
          }
        },
        "01a215948a3b4440a99c13a475035148": {
          "model_module": "@jupyter-widgets/controls",
          "model_name": "DescriptionStyleModel",
          "model_module_version": "1.5.0",
          "state": {
            "_model_module": "@jupyter-widgets/controls",
            "_model_module_version": "1.5.0",
            "_model_name": "DescriptionStyleModel",
            "_view_count": null,
            "_view_module": "@jupyter-widgets/base",
            "_view_module_version": "1.2.0",
            "_view_name": "StyleView",
            "description_width": ""
          }
        },
        "5bfa19cf0dc04932924488ec4a860cbd": {
          "model_module": "@jupyter-widgets/controls",
          "model_name": "HBoxModel",
          "model_module_version": "1.5.0",
          "state": {
            "_dom_classes": [],
            "_model_module": "@jupyter-widgets/controls",
            "_model_module_version": "1.5.0",
            "_model_name": "HBoxModel",
            "_view_count": null,
            "_view_module": "@jupyter-widgets/controls",
            "_view_module_version": "1.5.0",
            "_view_name": "HBoxView",
            "box_style": "",
            "children": [
              "IPY_MODEL_862bcdd747ad44c6b2d602f9a5b58369",
              "IPY_MODEL_e114748ed529488eb745d417287eae46",
              "IPY_MODEL_e397547057884bb995eca1b6141f7c7b"
            ],
            "layout": "IPY_MODEL_b5422362137649ec8c14f4e8c4a62797"
          }
        },
        "862bcdd747ad44c6b2d602f9a5b58369": {
          "model_module": "@jupyter-widgets/controls",
          "model_name": "HTMLModel",
          "model_module_version": "1.5.0",
          "state": {
            "_dom_classes": [],
            "_model_module": "@jupyter-widgets/controls",
            "_model_module_version": "1.5.0",
            "_model_name": "HTMLModel",
            "_view_count": null,
            "_view_module": "@jupyter-widgets/controls",
            "_view_module_version": "1.5.0",
            "_view_name": "HTMLView",
            "description": "",
            "description_tooltip": null,
            "layout": "IPY_MODEL_39d7206d0050424f8e2994eec99239a1",
            "placeholder": "​",
            "style": "IPY_MODEL_6b3d1f39046f44159fbfcfe56395ba9b",
            "value": "vocab.txt: 100%"
          }
        },
        "e114748ed529488eb745d417287eae46": {
          "model_module": "@jupyter-widgets/controls",
          "model_name": "FloatProgressModel",
          "model_module_version": "1.5.0",
          "state": {
            "_dom_classes": [],
            "_model_module": "@jupyter-widgets/controls",
            "_model_module_version": "1.5.0",
            "_model_name": "FloatProgressModel",
            "_view_count": null,
            "_view_module": "@jupyter-widgets/controls",
            "_view_module_version": "1.5.0",
            "_view_name": "ProgressView",
            "bar_style": "success",
            "description": "",
            "description_tooltip": null,
            "layout": "IPY_MODEL_30f5adac2a2c405a8f0abfbe44a268bb",
            "max": 231508,
            "min": 0,
            "orientation": "horizontal",
            "style": "IPY_MODEL_4137119431bf4aff87dcc4964ff84981",
            "value": 231508
          }
        },
        "e397547057884bb995eca1b6141f7c7b": {
          "model_module": "@jupyter-widgets/controls",
          "model_name": "HTMLModel",
          "model_module_version": "1.5.0",
          "state": {
            "_dom_classes": [],
            "_model_module": "@jupyter-widgets/controls",
            "_model_module_version": "1.5.0",
            "_model_name": "HTMLModel",
            "_view_count": null,
            "_view_module": "@jupyter-widgets/controls",
            "_view_module_version": "1.5.0",
            "_view_name": "HTMLView",
            "description": "",
            "description_tooltip": null,
            "layout": "IPY_MODEL_92db73a55bd941c6a7bd3ff97c19bbfc",
            "placeholder": "​",
            "style": "IPY_MODEL_44de406cb1a84536913eaa93c656f382",
            "value": " 232k/232k [00:00&lt;00:00, 2.16MB/s]"
          }
        },
        "b5422362137649ec8c14f4e8c4a62797": {
          "model_module": "@jupyter-widgets/base",
          "model_name": "LayoutModel",
          "model_module_version": "1.2.0",
          "state": {
            "_model_module": "@jupyter-widgets/base",
            "_model_module_version": "1.2.0",
            "_model_name": "LayoutModel",
            "_view_count": null,
            "_view_module": "@jupyter-widgets/base",
            "_view_module_version": "1.2.0",
            "_view_name": "LayoutView",
            "align_content": null,
            "align_items": null,
            "align_self": null,
            "border": null,
            "bottom": null,
            "display": null,
            "flex": null,
            "flex_flow": null,
            "grid_area": null,
            "grid_auto_columns": null,
            "grid_auto_flow": null,
            "grid_auto_rows": null,
            "grid_column": null,
            "grid_gap": null,
            "grid_row": null,
            "grid_template_areas": null,
            "grid_template_columns": null,
            "grid_template_rows": null,
            "height": null,
            "justify_content": null,
            "justify_items": null,
            "left": null,
            "margin": null,
            "max_height": null,
            "max_width": null,
            "min_height": null,
            "min_width": null,
            "object_fit": null,
            "object_position": null,
            "order": null,
            "overflow": null,
            "overflow_x": null,
            "overflow_y": null,
            "padding": null,
            "right": null,
            "top": null,
            "visibility": null,
            "width": null
          }
        },
        "39d7206d0050424f8e2994eec99239a1": {
          "model_module": "@jupyter-widgets/base",
          "model_name": "LayoutModel",
          "model_module_version": "1.2.0",
          "state": {
            "_model_module": "@jupyter-widgets/base",
            "_model_module_version": "1.2.0",
            "_model_name": "LayoutModel",
            "_view_count": null,
            "_view_module": "@jupyter-widgets/base",
            "_view_module_version": "1.2.0",
            "_view_name": "LayoutView",
            "align_content": null,
            "align_items": null,
            "align_self": null,
            "border": null,
            "bottom": null,
            "display": null,
            "flex": null,
            "flex_flow": null,
            "grid_area": null,
            "grid_auto_columns": null,
            "grid_auto_flow": null,
            "grid_auto_rows": null,
            "grid_column": null,
            "grid_gap": null,
            "grid_row": null,
            "grid_template_areas": null,
            "grid_template_columns": null,
            "grid_template_rows": null,
            "height": null,
            "justify_content": null,
            "justify_items": null,
            "left": null,
            "margin": null,
            "max_height": null,
            "max_width": null,
            "min_height": null,
            "min_width": null,
            "object_fit": null,
            "object_position": null,
            "order": null,
            "overflow": null,
            "overflow_x": null,
            "overflow_y": null,
            "padding": null,
            "right": null,
            "top": null,
            "visibility": null,
            "width": null
          }
        },
        "6b3d1f39046f44159fbfcfe56395ba9b": {
          "model_module": "@jupyter-widgets/controls",
          "model_name": "DescriptionStyleModel",
          "model_module_version": "1.5.0",
          "state": {
            "_model_module": "@jupyter-widgets/controls",
            "_model_module_version": "1.5.0",
            "_model_name": "DescriptionStyleModel",
            "_view_count": null,
            "_view_module": "@jupyter-widgets/base",
            "_view_module_version": "1.2.0",
            "_view_name": "StyleView",
            "description_width": ""
          }
        },
        "30f5adac2a2c405a8f0abfbe44a268bb": {
          "model_module": "@jupyter-widgets/base",
          "model_name": "LayoutModel",
          "model_module_version": "1.2.0",
          "state": {
            "_model_module": "@jupyter-widgets/base",
            "_model_module_version": "1.2.0",
            "_model_name": "LayoutModel",
            "_view_count": null,
            "_view_module": "@jupyter-widgets/base",
            "_view_module_version": "1.2.0",
            "_view_name": "LayoutView",
            "align_content": null,
            "align_items": null,
            "align_self": null,
            "border": null,
            "bottom": null,
            "display": null,
            "flex": null,
            "flex_flow": null,
            "grid_area": null,
            "grid_auto_columns": null,
            "grid_auto_flow": null,
            "grid_auto_rows": null,
            "grid_column": null,
            "grid_gap": null,
            "grid_row": null,
            "grid_template_areas": null,
            "grid_template_columns": null,
            "grid_template_rows": null,
            "height": null,
            "justify_content": null,
            "justify_items": null,
            "left": null,
            "margin": null,
            "max_height": null,
            "max_width": null,
            "min_height": null,
            "min_width": null,
            "object_fit": null,
            "object_position": null,
            "order": null,
            "overflow": null,
            "overflow_x": null,
            "overflow_y": null,
            "padding": null,
            "right": null,
            "top": null,
            "visibility": null,
            "width": null
          }
        },
        "4137119431bf4aff87dcc4964ff84981": {
          "model_module": "@jupyter-widgets/controls",
          "model_name": "ProgressStyleModel",
          "model_module_version": "1.5.0",
          "state": {
            "_model_module": "@jupyter-widgets/controls",
            "_model_module_version": "1.5.0",
            "_model_name": "ProgressStyleModel",
            "_view_count": null,
            "_view_module": "@jupyter-widgets/base",
            "_view_module_version": "1.2.0",
            "_view_name": "StyleView",
            "bar_color": null,
            "description_width": ""
          }
        },
        "92db73a55bd941c6a7bd3ff97c19bbfc": {
          "model_module": "@jupyter-widgets/base",
          "model_name": "LayoutModel",
          "model_module_version": "1.2.0",
          "state": {
            "_model_module": "@jupyter-widgets/base",
            "_model_module_version": "1.2.0",
            "_model_name": "LayoutModel",
            "_view_count": null,
            "_view_module": "@jupyter-widgets/base",
            "_view_module_version": "1.2.0",
            "_view_name": "LayoutView",
            "align_content": null,
            "align_items": null,
            "align_self": null,
            "border": null,
            "bottom": null,
            "display": null,
            "flex": null,
            "flex_flow": null,
            "grid_area": null,
            "grid_auto_columns": null,
            "grid_auto_flow": null,
            "grid_auto_rows": null,
            "grid_column": null,
            "grid_gap": null,
            "grid_row": null,
            "grid_template_areas": null,
            "grid_template_columns": null,
            "grid_template_rows": null,
            "height": null,
            "justify_content": null,
            "justify_items": null,
            "left": null,
            "margin": null,
            "max_height": null,
            "max_width": null,
            "min_height": null,
            "min_width": null,
            "object_fit": null,
            "object_position": null,
            "order": null,
            "overflow": null,
            "overflow_x": null,
            "overflow_y": null,
            "padding": null,
            "right": null,
            "top": null,
            "visibility": null,
            "width": null
          }
        },
        "44de406cb1a84536913eaa93c656f382": {
          "model_module": "@jupyter-widgets/controls",
          "model_name": "DescriptionStyleModel",
          "model_module_version": "1.5.0",
          "state": {
            "_model_module": "@jupyter-widgets/controls",
            "_model_module_version": "1.5.0",
            "_model_name": "DescriptionStyleModel",
            "_view_count": null,
            "_view_module": "@jupyter-widgets/base",
            "_view_module_version": "1.2.0",
            "_view_name": "StyleView",
            "description_width": ""
          }
        }
      }
    }
  },
  "cells": [
    {
      "cell_type": "markdown",
      "metadata": {
        "id": "view-in-github",
        "colab_type": "text"
      },
      "source": [
        "<a href=\"https://colab.research.google.com/github/sohaibabdullah/Machine-Deep-Learning/blob/master/PyTorchnHuggingFace_Intro.ipynb\" target=\"_parent\"><img src=\"https://colab.research.google.com/assets/colab-badge.svg\" alt=\"Open In Colab\"/></a>"
      ]
    },
    {
      "cell_type": "markdown",
      "source": [
        "# Exercise: PyTorch and HuggingFace scavenger hunt!\n",
        "\n",
        "PyTorch and HuggingFace have emerged as powerful tools for developing and deploying neural networks.\n",
        "\n",
        "In this scavenger hunt, we will explore the capabilities of PyTorch and HuggingFace, uncovering hidden treasures on the way.\n",
        "\n",
        "We have two parts:\n",
        "* Familiarize yourself with PyTorch\n",
        "* Get to know HuggingFace"
      ],
      "metadata": {
        "id": "QYdvg18nKT3C"
      }
    },
    {
      "cell_type": "markdown",
      "source": [
        "## Familiarize yourself with PyTorch\n",
        "\n",
        "Learn the basics of PyTorch, including tensors, neural net parts, loss functions, and optimizers. This will provide a foundation for understanding and utilizing its capabilities in developing and training neural networks."
      ],
      "metadata": {
        "id": "RMfXQnxFKhRo"
      }
    },
    {
      "cell_type": "markdown",
      "source": [
        "### PyTorch tensors\n",
        "\n",
        "Scan through the PyTorch tensors documentation [here](https://pytorch.org/docs/stable/tensors.html). Be sure to look at the examples.\n",
        "\n",
        "In the following cell, create a tensor named `my_tensor` of size 3x3 with values of your choice. The tensor should be created on the GPU if available. Print the tensor."
      ],
      "metadata": {
        "id": "xsoT1ohYKi_p"
      }
    },
    {
      "cell_type": "code",
      "execution_count": null,
      "metadata": {
        "id": "Qav6fPTCJM0K",
        "colab": {
          "base_uri": "https://localhost:8080/"
        },
        "outputId": "76782354-b755-403f-c096-fdea0918058e"
      },
      "outputs": [
        {
          "output_type": "stream",
          "name": "stdout",
          "text": [
            "tensor([[1, 2, 3],\n",
            "        [4, 3, 7],\n",
            "        [2, 3, 4]])\n"
          ]
        }
      ],
      "source": [
        "# Fill in the missing parts labelled <MASK> with the appropriate code to complete the exercise.\n",
        "\n",
        "# Hint: Use torch.cuda.is_available() to check if GPU is available\n",
        "\n",
        "import torch\n",
        "\n",
        "# Set the device to be used for the tensor\n",
        "device = torch.device('cuda' if torch.cuda.is_available() else 'cpu')\n",
        "\n",
        "# Create a tensor on the appropriate device\n",
        "my_tensor = torch.tensor([[1,2,3],[4,3,7],[2,3,4]])\n",
        "\n",
        "# Print the tensor\n",
        "print(my_tensor)\n"
      ]
    },
    {
      "cell_type": "code",
      "source": [
        "# Check the previous cell\n",
        "\n",
        "assert my_tensor.device.type in {\"cuda\", \"cpu\"}\n",
        "assert my_tensor.shape == (3, 3)\n",
        "\n",
        "print(\"Success!\")"
      ],
      "metadata": {
        "id": "rya5dFQCKrfN",
        "colab": {
          "base_uri": "https://localhost:8080/"
        },
        "outputId": "bd8e40ed-b84d-4740-b45b-48be7a7debc5"
      },
      "execution_count": null,
      "outputs": [
        {
          "output_type": "stream",
          "name": "stdout",
          "text": [
            "Success!\n"
          ]
        }
      ]
    },
    {
      "cell_type": "markdown",
      "source": [
        "### Neural Net Constructor Kit `torch.nn`\n",
        "\n",
        "You can think of the `torch.nn` ([documentation](https://pytorch.org/docs/stable/nn.html)) module as a constructor kit for neural networks. It provides the building blocks for creating neural networks, including layers, activation functions, loss functions, and more.\n",
        "\n",
        "Instructions:\n",
        "\n",
        "Create a three layer Multi-Layer Perceptron (MLP) neural network with the following specifications:\n",
        "\n",
        "- Input layer: 784 neurons\n",
        "- Hidden layer: 128 neurons\n",
        "- Output layer: 10 neurons\n",
        "\n",
        "Use the ReLU activation function for the hidden layer and the softmax activation function for the output layer. Print the neural network.\n",
        "\n",
        "Hint: MLP's use \"fully-connected\" or \"dense\" layers. In PyTorch's `nn` module, this type of layer has a different name. See the examples in [this tutorial](https://pytorch.org/tutorials/recipes/recipes/defining_a_neural_network.html) to find out more."
      ],
      "metadata": {
        "id": "XzJKjT5aMh-G"
      }
    },
    {
      "cell_type": "code",
      "source": [
        "# Replace <MASK> with the appropriate code to complete the exercise.\n",
        "\n",
        "import torch.nn as nn\n",
        "\n",
        "\n",
        "class MyMLP(nn.Module):\n",
        "    \"\"\"My Multilayer Perceptron (MLP)\n",
        "\n",
        "    Specifications:\n",
        "\n",
        "        - Input layer: 784 neurons\n",
        "        - Hidden layer: 128 neurons with ReLU activation\n",
        "        - Output layer: 10 neurons with softmax activation\n",
        "\n",
        "    \"\"\"\n",
        "\n",
        "    def __init__(self):\n",
        "        super(MyMLP, self).__init__()\n",
        "        self.fc1 = nn.Linear(784,128)\n",
        "        self.fc2 = nn.Linear(128,10)\n",
        "        self.relu = nn.ReLU()\n",
        "        self.softmax = nn.Softmax()\n",
        "\n",
        "    def forward(self, x):\n",
        "        # Pass the input to the second layer\n",
        "        x = self.fc1(x)\n",
        "\n",
        "        # Apply ReLU activation\n",
        "        x = self.relu(x)\n",
        "\n",
        "        # Pass the result to the final layer\n",
        "        x = self.fc2(x)\n",
        "\n",
        "        # Apply softmax activation\n",
        "        x = self.softmax(x)\n",
        "\n",
        "        return x\n",
        "\n",
        "\n",
        "my_mlp = MyMLP()\n",
        "print(my_mlp)"
      ],
      "metadata": {
        "id": "18WEjuBGMoaQ",
        "colab": {
          "base_uri": "https://localhost:8080/"
        },
        "outputId": "1f24a2fc-7606-40d4-f81f-58a43982df0b"
      },
      "execution_count": null,
      "outputs": [
        {
          "output_type": "stream",
          "name": "stdout",
          "text": [
            "MyMLP(\n",
            "  (fc1): Linear(in_features=784, out_features=128, bias=True)\n",
            "  (fc2): Linear(in_features=128, out_features=10, bias=True)\n",
            "  (relu): ReLU()\n",
            "  (softmax): Softmax(dim=None)\n",
            ")\n"
          ]
        }
      ]
    },
    {
      "cell_type": "code",
      "source": [
        "# Check your work here:\n",
        "\n",
        "\n",
        "# Check the number of inputs\n",
        "assert my_mlp.fc1.in_features == 784\n",
        "\n",
        "# Check the number of outputs\n",
        "assert my_mlp.fc2.out_features == 10\n",
        "\n",
        "# Check the number of nodes in the hidden layer\n",
        "assert my_mlp.fc1.out_features == 128\n",
        "\n",
        "# Check that my_mlp.fc1 is a fully connected layer\n",
        "assert isinstance(my_mlp.fc1, nn.Linear)\n",
        "\n",
        "# Check that my_mlp.fc2 is a fully connected layer\n",
        "assert isinstance(my_mlp.fc2, nn.Linear)"
      ],
      "metadata": {
        "id": "NZL0eEROMpxn"
      },
      "execution_count": null,
      "outputs": []
    },
    {
      "cell_type": "markdown",
      "source": [
        "### PyTorch Loss Functions and Optimizers\n",
        "\n",
        "PyTorch comes with a number of built-in loss functions and optimizers that can be used to train neural networks. The loss functions are implemented in the `torch.nn` ([documentation](https://pytorch.org/docs/stable/nn.html#loss-functions)) module, while the optimizers are implemented in the `torch.optim` ([documentation](https://pytorch.org/docs/stable/optim.html)) module.\n",
        "\n",
        "\n",
        "Instructions:\n",
        "\n",
        "- Create a loss function using the `torch.nn.CrossEntropyLoss` ([documentation](https://pytorch.org/docs/stable/generated/torch.nn.CrossEntropyLoss.html#torch.nn.CrossEntropyLoss)) class.\n",
        "- Create an optimizer using the `torch.optim.SGD` ([documentation](https://pytorch.org/docs/stable/generated/torch.optim.SGD.html#torch.optim.SGD)) class with a learning rate of 0.001.\n",
        "\n"
      ],
      "metadata": {
        "id": "aePibhAlMwEx"
      }
    },
    {
      "cell_type": "code",
      "source": [
        "# Replace <MASK> with the appropriate code to complete the exercise.\n",
        "\n",
        "# Loss function\n",
        "loss_fn = nn.CrossEntropyLoss()\n",
        "\n",
        "# Optimizer (by convention we use the variable optimizer)\n",
        "optimizer = torch.optim.SGD(my_mlp.parameters(), lr=.01, momentum=.9)"
      ],
      "metadata": {
        "id": "ZS2hJwr7M2Sx"
      },
      "execution_count": null,
      "outputs": []
    },
    {
      "cell_type": "code",
      "source": [
        "# Check\n",
        "\n",
        "assert isinstance(\n",
        "    loss_fn, nn.CrossEntropyLoss\n",
        "), \"loss_fn should be an instance of CrossEntropyLoss\"\n",
        "assert isinstance(optimizer, torch.optim.SGD), \"optimizer should be an instance of SGD\"\n",
        "assert optimizer.defaults[\"lr\"] == 0.01, \"learning rate should be 0.01\"\n",
        "assert optimizer.param_groups[0][\"params\"] == list(\n",
        "    my_mlp.parameters()\n",
        "), \"optimizer should be passed the MLP parameters\""
      ],
      "metadata": {
        "id": "xqmKIJFlM9M1"
      },
      "execution_count": null,
      "outputs": []
    },
    {
      "cell_type": "markdown",
      "source": [
        "### PyTorch Training Loops\n",
        "\n",
        "PyTorch makes writing a training loop easy!\n",
        "\n",
        "\n",
        "Instructions:\n",
        "\n",
        "- Fill in the blanks!"
      ],
      "metadata": {
        "id": "vvyX8CfUNA_m"
      }
    },
    {
      "cell_type": "code",
      "source": [
        "# Replace <MASK> with the appropriate code to complete the exercise.\n",
        "\n",
        "def fake_training_loaders():\n",
        "    for _ in range(30):\n",
        "        yield torch.randn(64, 784), torch.randint(0, 10, (64,))\n",
        "\n",
        "\n",
        "for epoch in range(3):\n",
        "    # Create a training loop\n",
        "    for i, data in enumerate(fake_training_loaders()):\n",
        "        # Every data instance is an input + label pair\n",
        "        x, y = data\n",
        "\n",
        "        # Zero your gradients for every batch!\n",
        "        optimizer.zero_grad()\n",
        "\n",
        "        # Forward pass (predictions)\n",
        "        y_pred = my_mlp(x)\n",
        "\n",
        "        # Compute the loss and its gradients\n",
        "        loss = loss_fn(y_pred,y)\n",
        "        loss.backward()\n",
        "\n",
        "        # Adjust learning weights\n",
        "        optimizer.step()\n",
        "\n",
        "        if i % 10 == 0:\n",
        "            print(f\"Epoch {epoch}, batch {i}: {loss.item():.5f}\")"
      ],
      "metadata": {
        "id": "kT2GmJWVNHPP",
        "colab": {
          "base_uri": "https://localhost:8080/"
        },
        "outputId": "82c658ff-d6a3-4ac4-9dc4-039f21a7e1d5"
      },
      "execution_count": null,
      "outputs": [
        {
          "output_type": "stream",
          "name": "stderr",
          "text": [
            "/usr/local/lib/python3.10/dist-packages/torch/nn/modules/module.py:1518: UserWarning: Implicit dimension choice for softmax has been deprecated. Change the call to include dim=X as an argument.\n",
            "  return self._call_impl(*args, **kwargs)\n"
          ]
        },
        {
          "output_type": "stream",
          "name": "stdout",
          "text": [
            "Epoch 0, batch 0: 2.29961\n",
            "Epoch 0, batch 10: 2.30454\n",
            "Epoch 0, batch 20: 2.30257\n",
            "Epoch 1, batch 0: 2.30326\n",
            "Epoch 1, batch 10: 2.30245\n",
            "Epoch 1, batch 20: 2.30250\n",
            "Epoch 2, batch 0: 2.30536\n",
            "Epoch 2, batch 10: 2.30490\n",
            "Epoch 2, batch 20: 2.30001\n"
          ]
        }
      ]
    },
    {
      "cell_type": "code",
      "source": [
        "# Check\n",
        "\n",
        "assert abs(loss.item() - 2.3) < 0.1, \"the loss should be around 2.3 with random data\""
      ],
      "metadata": {
        "id": "l_1cS3YsNKio"
      },
      "execution_count": null,
      "outputs": []
    },
    {
      "cell_type": "markdown",
      "source": [
        "## Get to know HuggingFace\n",
        "\n",
        "HuggingFace is a popular destination for pre-trained models and datasets that can be applied to a variety of tasks quickly and easily. In this section, we will explore the capabilities of HuggingFace and learn how to use it to build and train neural networks."
      ],
      "metadata": {
        "id": "UTvvd4pyNL14"
      }
    },
    {
      "cell_type": "markdown",
      "source": [
        "### Download a model from HuggingFace and use it for sentiment analysis\n",
        "\n",
        "HuggingFace provides a number of pre-trained models that can be used for a variety of tasks. In this exercise, we will use the `distilbert-base-uncased-finetuned-sst-2-english` model to perform sentiment analysis on a movie review.\n",
        "\n",
        "Instructions:\n",
        "- Review the [AutoModel tutorial](https://huggingface.co/docs/transformers/quicktour#automodel) on the HuggingFace website.\n",
        "- Instantiate an AutoModelForSequenceClassification model using the `distilbert-base-uncased-finetuned-sst-2-english` model.\n",
        "- Instantiate an AutoTokenizer using the `distilbert-base-uncased-finetuned-sst-2-english` model.\n",
        "- Define a function that will get a prediction"
      ],
      "metadata": {
        "id": "5z-RxTuaNQ0z"
      }
    },
    {
      "cell_type": "code",
      "source": [
        "# Replace <MASK> with the appropriate code to complete the exercise.\n",
        "\n",
        "# Get the model and tokenizer\n",
        "\n",
        "from transformers import AutoModelForSequenceClassification, AutoTokenizer\n",
        "\n",
        "pt_model = AutoModelForSequenceClassification.from_pretrained(\"distilbert-base-uncased-finetuned-sst-2-english\")\n",
        "tokenizer = AutoTokenizer.from_pretrained(\"distilbert-base-uncased-finetuned-sst-2-english\")\n",
        "\n",
        "\n",
        "def get_prediction(review):\n",
        "    \"\"\"Given a review, return the predicted sentiment\"\"\"\n",
        "\n",
        "    # Tokenize the review\n",
        "    # (Get the response as tensors and not as a list)\n",
        "    inputs = tokenizer(review,return_tensors='pt')\n",
        "\n",
        "\n",
        "    # Perform the prediction (get the logits)\n",
        "    outputs = pt_model(**inputs)\n",
        "\n",
        "    # Get the predicted class (corresponding to the highest logit)\n",
        "    predictions = torch.argmax(outputs.logits, dim=-1)\n",
        "\n",
        "    return \"positive\" if predictions.item() == 1 else \"negative\""
      ],
      "metadata": {
        "id": "FyqtnujtNcg1",
        "colab": {
          "base_uri": "https://localhost:8080/",
          "height": 249,
          "referenced_widgets": [
            "f37c95196de949d88420e4ed7e417153",
            "6f35ec3f874d48658f3eb6dfbc7989aa",
            "febbe234440547b8a4c7086367752f00",
            "5ef3299ac76846f29eef39c83f0b087c",
            "15fdd5e73db64d059ec99f339da2fc43",
            "4fdae0540deb40cab31de54cf87d4dba",
            "ccbdd4f1e510469c9c78cc06952d63bc",
            "c916e22b4ed140e6acadb029d27908c1",
            "1f5be865c43d4372a7735379ecee7902",
            "183ba8e11a7e4ef49c6f42747fe0c24c",
            "e3a27cd93761459c9fe0cb17eb967cb2",
            "7fdcd29f66b9439aa8c550692230a469",
            "19314a374898439da353706c9440bded",
            "7e1a58dc68d74a5eb9a795d6e8d17ce2",
            "4f305df633fc44af94f9c6f6b49e019e",
            "d8ade86c8acb4d2693656f2a823d4288",
            "3a6e268edf3c4853bbe1695c3015ce5c",
            "d32a833b186242e296584ed21d7906b5",
            "022ef3bff3124e528e8025934b959f79",
            "196aa5da00cb4354aa515faf68bafb4e",
            "1b7520fd70ab413fafd4d7bf54872243",
            "b6774ebec23e433886e5197e57aa9039",
            "6fec07e9da534e0491d4c8a55b640cd3",
            "dbe88a66e6fa4741b3b927b27b931e0a",
            "a23a877a2fcb43718a3d6c9da6e25f07",
            "4e7a03eae6a94182b8d3eccfc0182a27",
            "1cf1932068ab4fa8b759562607569e32",
            "c053ca5c41aa47f89353876fb061fc18",
            "057597ed37a04016a3492023145562b9",
            "941fa8e0f01846059cc2e59494fcccb2",
            "7a138d9bf689464cb16f56c6cf08ad85",
            "9a6de780a80f4fa0a989481b56fbd7f8",
            "01a215948a3b4440a99c13a475035148",
            "5bfa19cf0dc04932924488ec4a860cbd",
            "862bcdd747ad44c6b2d602f9a5b58369",
            "e114748ed529488eb745d417287eae46",
            "e397547057884bb995eca1b6141f7c7b",
            "b5422362137649ec8c14f4e8c4a62797",
            "39d7206d0050424f8e2994eec99239a1",
            "6b3d1f39046f44159fbfcfe56395ba9b",
            "30f5adac2a2c405a8f0abfbe44a268bb",
            "4137119431bf4aff87dcc4964ff84981",
            "92db73a55bd941c6a7bd3ff97c19bbfc",
            "44de406cb1a84536913eaa93c656f382"
          ]
        },
        "outputId": "cd697367-8ec4-4a12-9dcb-eb7175d090b5"
      },
      "execution_count": null,
      "outputs": [
        {
          "output_type": "stream",
          "name": "stderr",
          "text": [
            "/usr/local/lib/python3.10/dist-packages/huggingface_hub/utils/_token.py:88: UserWarning: \n",
            "The secret `HF_TOKEN` does not exist in your Colab secrets.\n",
            "To authenticate with the Hugging Face Hub, create a token in your settings tab (https://huggingface.co/settings/tokens), set it as secret in your Google Colab and restart your session.\n",
            "You will be able to reuse this secret in all of your notebooks.\n",
            "Please note that authentication is recommended but still optional to access public models or datasets.\n",
            "  warnings.warn(\n"
          ]
        },
        {
          "output_type": "display_data",
          "data": {
            "text/plain": [
              "config.json:   0%|          | 0.00/629 [00:00<?, ?B/s]"
            ],
            "application/vnd.jupyter.widget-view+json": {
              "version_major": 2,
              "version_minor": 0,
              "model_id": "f37c95196de949d88420e4ed7e417153"
            }
          },
          "metadata": {}
        },
        {
          "output_type": "display_data",
          "data": {
            "text/plain": [
              "model.safetensors:   0%|          | 0.00/268M [00:00<?, ?B/s]"
            ],
            "application/vnd.jupyter.widget-view+json": {
              "version_major": 2,
              "version_minor": 0,
              "model_id": "7fdcd29f66b9439aa8c550692230a469"
            }
          },
          "metadata": {}
        },
        {
          "output_type": "display_data",
          "data": {
            "text/plain": [
              "tokenizer_config.json:   0%|          | 0.00/48.0 [00:00<?, ?B/s]"
            ],
            "application/vnd.jupyter.widget-view+json": {
              "version_major": 2,
              "version_minor": 0,
              "model_id": "6fec07e9da534e0491d4c8a55b640cd3"
            }
          },
          "metadata": {}
        },
        {
          "output_type": "display_data",
          "data": {
            "text/plain": [
              "vocab.txt:   0%|          | 0.00/232k [00:00<?, ?B/s]"
            ],
            "application/vnd.jupyter.widget-view+json": {
              "version_major": 2,
              "version_minor": 0,
              "model_id": "5bfa19cf0dc04932924488ec4a860cbd"
            }
          },
          "metadata": {}
        }
      ]
    },
    {
      "cell_type": "code",
      "source": [
        "# Check\n",
        "\n",
        "review = \"This movie is not so great :(\"\n",
        "\n",
        "print(f\"Review: {review}\")\n",
        "print(f\"Sentiment: {get_prediction(review)}\")\n",
        "\n",
        "assert get_prediction(review) == \"negative\", \"The prediction should be negative\"\n",
        "\n",
        "\n",
        "review = \"This movie rocks!\"\n",
        "\n",
        "print(f\"Review: {review}\")\n",
        "print(f\"Sentiment: {get_prediction(review)}\")\n",
        "\n",
        "assert get_prediction(review) == \"positive\", \"The prediction should be positive\""
      ],
      "metadata": {
        "id": "egn6YhpmNhN2",
        "colab": {
          "base_uri": "https://localhost:8080/"
        },
        "outputId": "9f883c05-98a5-4c8f-9d53-7756f5497208"
      },
      "execution_count": null,
      "outputs": [
        {
          "output_type": "stream",
          "name": "stdout",
          "text": [
            "Review: This movie is not so great :(\n",
            "Sentiment: negative\n",
            "Review: This movie rocks!\n",
            "Sentiment: positive\n"
          ]
        }
      ]
    },
    {
      "cell_type": "markdown",
      "source": [
        "### Download a dataset from HuggingFace\n",
        "\n",
        "HuggingFace provides a number of datasets that can be used for a variety of tasks. In this exercise, we will use the `imdb` dataset and pass it to the model we instantiated in the previous exercise.\n",
        "\n",
        "Instructions:\n",
        "- Review the [loading a dataset](https://huggingface.co/docs/datasets/v1.11.0/loading_datasets.html) documentation\n",
        "- Fill in the blanks"
      ],
      "metadata": {
        "id": "v1GLoTt0Nk8H"
      }
    },
    {
      "cell_type": "code",
      "source": [
        "# Replace <MASK> with the appropriate code\n",
        "from datasets import load_dataset\n",
        "\n",
        "# Load the test split of the imdb dataset\n",
        "dataset = load_dataset(\"imdb\",split=\"test\")\n",
        "\n",
        "dataset"
      ],
      "metadata": {
        "id": "PL9weAMiNnhx",
        "colab": {
          "base_uri": "https://localhost:8080/"
        },
        "outputId": "9838285b-2c69-495f-f4ca-d5a8990cf21b"
      },
      "execution_count": null,
      "outputs": [
        {
          "output_type": "execute_result",
          "data": {
            "text/plain": [
              "Dataset({\n",
              "    features: ['text', 'label'],\n",
              "    num_rows: 25000\n",
              "})"
            ]
          },
          "metadata": {},
          "execution_count": 13
        }
      ]
    },
    {
      "cell_type": "code",
      "source": [
        "# Check\n",
        "\n",
        "from pprint import pprint\n",
        "\n",
        "from datasets import Dataset\n",
        "\n",
        "assert isinstance(dataset, Dataset), \"The dataset should be a Dataset object\"\n",
        "assert set(dataset.features.keys()) == {\n",
        "    \"label\",\n",
        "    \"text\",\n",
        "}, \"The dataset should have a label and a text feature\"\n",
        "\n",
        "# Show the first example\n",
        "pprint(dataset[0])"
      ],
      "metadata": {
        "id": "5njELwMmNriJ",
        "colab": {
          "base_uri": "https://localhost:8080/"
        },
        "outputId": "f83327da-9fca-4f6d-aedd-4463363de88e"
      },
      "execution_count": null,
      "outputs": [
        {
          "output_type": "stream",
          "name": "stdout",
          "text": [
            "{'label': 0,\n",
            " 'text': 'I love sci-fi and am willing to put up with a lot. Sci-fi movies/TV '\n",
            "         'are usually underfunded, under-appreciated and misunderstood. I '\n",
            "         'tried to like this, I really did, but it is to good TV sci-fi as '\n",
            "         'Babylon 5 is to Star Trek (the original). Silly prosthetics, cheap '\n",
            "         \"cardboard sets, stilted dialogues, CG that doesn't match the \"\n",
            "         'background, and painfully one-dimensional characters cannot be '\n",
            "         \"overcome with a 'sci-fi' setting. (I'm sure there are those of you \"\n",
            "         \"out there who think Babylon 5 is good sci-fi TV. It's not. It's \"\n",
            "         'clichéd and uninspiring.) While US viewers might like emotion and '\n",
            "         'character development, sci-fi is a genre that does not take itself '\n",
            "         'seriously (cf. Star Trek). It may treat important issues, yet not as '\n",
            "         \"a serious philosophy. It's really difficult to care about the \"\n",
            "         'characters here as they are not simply foolish, just missing a spark '\n",
            "         'of life. Their actions and reactions are wooden and predictable, '\n",
            "         \"often painful to watch. The makers of Earth KNOW it's rubbish as \"\n",
            "         'they have to always say \"Gene Roddenberry\\'s Earth...\" otherwise '\n",
            "         \"people would not continue watching. Roddenberry's ashes must be \"\n",
            "         'turning in their orbit as this dull, cheap, poorly edited (watching '\n",
            "         'it without advert breaks really brings this home) trudging Trabant '\n",
            "         'of a show lumbers into space. Spoiler. So, kill off a main '\n",
            "         'character. And then bring him back as another actor. Jeeez! Dallas '\n",
            "         'all over again.'}\n"
          ]
        }
      ]
    },
    {
      "cell_type": "markdown",
      "source": [
        "### Now let's use the pre-trained model!\n",
        "\n",
        "Let's make some predictions.\n",
        "\n",
        "Instructions:\n",
        "- Fill in the blanks"
      ],
      "metadata": {
        "id": "6FRBnbPONunM"
      }
    },
    {
      "cell_type": "code",
      "source": [
        "# Replace <MASK> with the appropriate code\n",
        "\n",
        "# Get the last 3 reviews\n",
        "reviews = dataset[\"text\"][-3:]\n",
        "\n",
        "# Get the last 3 labels\n",
        "labels = dataset[\"label\"][-3:]\n",
        "\n",
        "# Check\n",
        "for review, label in zip(reviews, labels):\n",
        "    # Let's use your get_prediction function to get the sentiment\n",
        "    # of the review!\n",
        "    prediction = get_prediction(review)\n",
        "\n",
        "    print(f\"Review: {review[:80]} \\n... {review[-80:]}\")\n",
        "    print(f'Label: {\"positive\" if label else \"negative\"}')\n",
        "    print(f\"Prediction: {prediction}\\n\")"
      ],
      "metadata": {
        "id": "pZo5UELfNxXA",
        "colab": {
          "base_uri": "https://localhost:8080/"
        },
        "outputId": "12e57c5d-7dfe-4f08-8f16-6937e675dfd0"
      },
      "execution_count": null,
      "outputs": [
        {
          "output_type": "stream",
          "name": "stdout",
          "text": [
            "Review: I got Monster Man in a box set of three films where I mainly wanted the other tw \n",
            "... ous, often gnarly splatter comedy that should endear itself to fans of the same.\n",
            "Label: positive\n",
            "Prediction: positive\n",
            "\n",
            "Review: Five minutes in, i started to feel how naff this was looking, you've got a compl \n",
            "... for anyone who likes their horror with several side orders of gore and attitude.\n",
            "Label: positive\n",
            "Prediction: positive\n",
            "\n",
            "Review: I caught this movie on the Sci-Fi channel recently. It actually turned out to be \n",
            "... e more than passable for the horror/slasher buff. Definitely worth checking out.\n",
            "Label: positive\n",
            "Prediction: positive\n",
            "\n"
          ]
        }
      ]
    }
  ]
}